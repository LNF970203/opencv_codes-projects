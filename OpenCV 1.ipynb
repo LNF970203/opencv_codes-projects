{
 "cells": [
  {
   "cell_type": "code",
   "execution_count": 1,
   "id": "60e1cba9",
   "metadata": {},
   "outputs": [],
   "source": [
    "import cv2 as cv2\n",
    "import numpy as np\n",
    "import matplotlib.pyplot as plt\n",
    "import os"
   ]
  },
  {
   "cell_type": "markdown",
   "id": "bd6771fe",
   "metadata": {},
   "source": [
    "# Chpater 01"
   ]
  },
  {
   "cell_type": "markdown",
   "id": "c84f6b1f",
   "metadata": {},
   "source": [
    "## BGR, Blue - 0, Green - 1, Red - 2"
   ]
  },
  {
   "cell_type": "code",
   "execution_count": 2,
   "id": "e6fa7b16",
   "metadata": {},
   "outputs": [
    {
     "name": "stdout",
     "output_type": "stream",
     "text": [
      "[[0 0 0]\n",
      " [0 0 0]\n",
      " [0 0 0]]\n"
     ]
    }
   ],
   "source": [
    "#open cv\n",
    "#Reading and writing files\n",
    "#Chapter 01\n",
    "img = np.zeros((3,3), dtype = np.uint8)#uint8 = unsigned integer (0 to 255)\n",
    "print(img)"
   ]
  },
  {
   "cell_type": "markdown",
   "id": "3dc145eb",
   "metadata": {},
   "source": [
    "#### Converting to RGB"
   ]
  },
  {
   "cell_type": "code",
   "execution_count": 3,
   "id": "872ae4fc",
   "metadata": {
    "collapsed": true
   },
   "outputs": [
    {
     "name": "stdout",
     "output_type": "stream",
     "text": [
      "[[[0 0 0]\n",
      "  [0 0 0]\n",
      "  [0 0 0]]\n",
      "\n",
      " [[0 0 0]\n",
      "  [0 0 0]\n",
      "  [0 0 0]]\n",
      "\n",
      " [[0 0 0]\n",
      "  [0 0 0]\n",
      "  [0 0 0]]]\n"
     ]
    }
   ],
   "source": [
    "#converting to RGB\n",
    "img1 = cv2.cvtColor(img, cv2.COLOR_GRAY2BGR)\n",
    "print(img1)#Consist with 3 layers"
   ]
  },
  {
   "cell_type": "markdown",
   "id": "d5bfb712",
   "metadata": {},
   "source": [
    "#### Image Structure"
   ]
  },
  {
   "cell_type": "code",
   "execution_count": 4,
   "id": "e7b9d192",
   "metadata": {
    "collapsed": true
   },
   "outputs": [
    {
     "name": "stdout",
     "output_type": "stream",
     "text": [
      "This is 2D Array image, shape is: (3, 3)\n",
      "This is 3D Array image, shape is: (3, 3, 3)\n"
     ]
    }
   ],
   "source": [
    "#structure of in image\n",
    "i1shape=img.shape\n",
    "i2shape=img1.shape\n",
    "print(f'This is 2D Array image, shape is: {i1shape}')\n",
    "print(f'This is 3D Array image, shape is: {i2shape}')"
   ]
  },
  {
   "cell_type": "markdown",
   "id": "b953d8f9",
   "metadata": {},
   "source": [
    "#### Image Loading ans saving"
   ]
  },
  {
   "cell_type": "code",
   "execution_count": 6,
   "id": "ea718eba",
   "metadata": {},
   "outputs": [
    {
     "data": {
      "text/plain": [
       "True"
      ]
     },
     "execution_count": 6,
     "metadata": {},
     "output_type": "execute_result"
    }
   ],
   "source": [
    "#image loading\n",
    "image1 = cv2.imread(\"C:\\\\Lachin\\\\Data Science\\\\Data science\\\\Opencv\\\\image1.jpg\")#By default RGB color image is shown\n",
    "cv2.imwrite(\"C:\\Lachin\\Data Science\\Data science\\Opencv\\mypic.png\", image1)#JPG is now turned to PNG\n",
    "#plt.imshow(image1)#Show an image using matplotlib"
   ]
  },
  {
   "cell_type": "markdown",
   "id": "3a03c1e8",
   "metadata": {},
   "source": [
    "#### Converting RGB to Grayscale"
   ]
  },
  {
   "cell_type": "code",
   "execution_count": 20,
   "id": "0a880669",
   "metadata": {},
   "outputs": [
    {
     "data": {
      "text/plain": [
       "(636, 1024)"
      ]
     },
     "execution_count": 20,
     "metadata": {},
     "output_type": "execute_result"
    }
   ],
   "source": [
    "img_gray = cv2.cvtColor(image1, cv2.COLOR_RGB2GRAY)#Convert in to GrayScale\n",
    "img_gray.shape\n",
    "#lt.imshow(img_gray)"
   ]
  },
  {
   "cell_type": "markdown",
   "id": "fc4a07a0",
   "metadata": {},
   "source": [
    "#### Directly read as grayscale"
   ]
  },
  {
   "cell_type": "code",
   "execution_count": 22,
   "id": "5e966013",
   "metadata": {},
   "outputs": [
    {
     "data": {
      "text/plain": [
       "True"
      ]
     },
     "execution_count": 22,
     "metadata": {},
     "output_type": "execute_result"
    }
   ],
   "source": [
    "#Load PNG as Grayscale image\n",
    "gray_image = cv2.imread(\"C:\\Lachin\\Data Science\\Data science\\Opencv\\mypic.png\", cv2.IMREAD_GRAYSCALE)#Open as grayscale img\n",
    "cv2.imwrite(\"C:\\Lachin\\Data Science\\Data science\\Opencv\\Mypic_Gray.png\", gray_image)#Saved as Grayscale image"
   ]
  },
  {
   "cell_type": "markdown",
   "id": "8d007401",
   "metadata": {},
   "source": [
    "#### Accessing Image elements"
   ]
  },
  {
   "cell_type": "code",
   "execution_count": 23,
   "id": "54cd32db",
   "metadata": {},
   "outputs": [
    {
     "name": "stdout",
     "output_type": "stream",
     "text": [
      "(636, 1024)\n"
     ]
    }
   ],
   "source": [
    "print(gray_image.shape)"
   ]
  },
  {
   "cell_type": "code",
   "execution_count": 37,
   "id": "01efae4e",
   "metadata": {},
   "outputs": [
    {
     "name": "stdout",
     "output_type": "stream",
     "text": [
      "41\n",
      "21\n",
      "(636, 1024, 3)\n",
      "70\n"
     ]
    }
   ],
   "source": [
    "#GrayScale\n",
    "print(gray_image.item((0,0)))#pixel of the top left corner\n",
    "print(gray_image.item((125,85)))\n",
    "\n",
    "#RGB\n",
    "print(image1.shape)\n",
    "print(image1.item((10,25,1)))\n"
   ]
  },
  {
   "cell_type": "code",
   "execution_count": 41,
   "id": "7af5622c",
   "metadata": {},
   "outputs": [
    {
     "name": "stdout",
     "output_type": "stream",
     "text": [
      "Byte values of a certain image with respective channel: 68\n",
      "Byte values of a certain image with respective channel: 92\n",
      "Byte values of a certain image with respective channel: 112\n"
     ]
    }
   ],
   "source": [
    "for i in range(3):\n",
    "    print(\"Byte values of a certain image with respective channel: {}\".format(image1.item((25,45,i))))"
   ]
  },
  {
   "cell_type": "markdown",
   "id": "a9fa351e",
   "metadata": {},
   "source": [
    "### Converting image between raw bytes"
   ]
  },
  {
   "cell_type": "code",
   "execution_count": 47,
   "id": "2a94ff69",
   "metadata": {},
   "outputs": [
    {
     "data": {
      "text/plain": [
       "True"
      ]
     },
     "execution_count": 47,
     "metadata": {},
     "output_type": "execute_result"
    }
   ],
   "source": [
    "#creating random bytearrays\n",
    "randombytearray = bytearray(os.urandom(120000))\n",
    "flatnumpyarray = np.array(randombytearray)\n",
    "grayimage = flatnumpyarray.reshape(400,300)#grayscale image\n",
    "path = \"C:\\\\Lachin\\\\Data Science\\\\Data science\\\\Opencv\\\\\"\n",
    "cv2.imwrite(path + \"Gray.png\", grayimage)\n",
    "rgbimage = flatnumpyarray.reshape(100,400,3)\n",
    "cv2.imwrite(path+\"rgbimage.png\", rgbimage)"
   ]
  },
  {
   "cell_type": "markdown",
   "id": "deff35de",
   "metadata": {},
   "source": [
    "#### Accessing images with numpy arrays"
   ]
  },
  {
   "cell_type": "code",
   "execution_count": 4,
   "id": "8b64034d",
   "metadata": {},
   "outputs": [],
   "source": [
    "path = 'C:\\\\Lachin\\\\Data Science\\\\Data science\\\\Opencv\\\\'"
   ]
  },
  {
   "cell_type": "code",
   "execution_count": 15,
   "id": "690fa8d2",
   "metadata": {},
   "outputs": [
    {
     "data": {
      "text/plain": [
       "True"
      ]
     },
     "execution_count": 15,
     "metadata": {},
     "output_type": "execute_result"
    }
   ],
   "source": [
    "image = cv2.imread(path + 'mypic.png')#Load the image\n",
    "image [0,0] = [255,255,255]#top left corner pixel will be white\n",
    "cv2.imwrite(path+'White_dot_pic.png', image)"
   ]
  },
  {
   "cell_type": "code",
   "execution_count": 29,
   "id": "6a4e3425",
   "metadata": {},
   "outputs": [
    {
     "data": {
      "text/plain": [
       "(636, 1024, 3)"
      ]
     },
     "execution_count": 29,
     "metadata": {},
     "output_type": "execute_result"
    }
   ],
   "source": [
    "image.shape"
   ]
  },
  {
   "cell_type": "code",
   "execution_count": 23,
   "id": "b6cabb19",
   "metadata": {},
   "outputs": [
    {
     "name": "stdout",
     "output_type": "stream",
     "text": [
      "this the pixel value of respective red color channel\n",
      "45\n",
      "this the pixel value of respective green color channel\n",
      "54\n",
      "this the pixel value of respective blue color channel\n",
      "68\n"
     ]
    }
   ],
   "source": [
    "list1 = ['red','green','blue']\n",
    "for i , j in zip(list1, range(3)):\n",
    "    print(f'this the pixel value of respective {i} color channel')\n",
    "    print(image.item(45,25,j))"
   ]
  },
  {
   "cell_type": "code",
   "execution_count": 28,
   "id": "25ebf130",
   "metadata": {},
   "outputs": [
    {
     "name": "stdout",
     "output_type": "stream",
     "text": [
      "this the pixel value of respective red color channel\n",
      "255\n",
      "this the pixel value of respective green color channel\n",
      "75\n",
      "this the pixel value of respective blue color channel\n",
      "98\n"
     ]
    }
   ],
   "source": [
    "image.itemset((45,25,0),255)#Set the respective pixel to the 255\n",
    "image.itemset((45,25,1),75)#set the respective pixel to the 75\n",
    "image.itemset((45,25,2),98)#Set the respective pixel to the 98\n",
    "list1 = ['red','green','blue']\n",
    "for i , j in zip(list1, range(3)):\n",
    "    print(f'this the pixel value of respective {i} color channel')\n",
    "    print(image.item(45,25,j))"
   ]
  },
  {
   "cell_type": "code",
   "execution_count": 35,
   "id": "79533e21",
   "metadata": {},
   "outputs": [
    {
     "data": {
      "text/plain": [
       "True"
      ]
     },
     "execution_count": 35,
     "metadata": {},
     "output_type": "execute_result"
    }
   ],
   "source": [
    "image[:,:,1] = 0 #All the green channels pixels are green now\n",
    "image[:,:,0] = 0 #All the Blues are gone \n",
    "#Indexing is far better suitable, rather than loops, it takes times\n",
    "cv2.imwrite(path+'White_dot_pic02.png', image)#now all the green is gone"
   ]
  },
  {
   "cell_type": "markdown",
   "id": "e63194e1",
   "metadata": {},
   "source": [
    "#### Region of interest"
   ]
  },
  {
   "cell_type": "code",
   "execution_count": 38,
   "id": "617b47bb",
   "metadata": {},
   "outputs": [],
   "source": [
    "#How read in an image\n",
    "cv2.imshow('my_image', image)\n",
    "cv2.waitKey()\n",
    "cv2.destroyAllWindows()"
   ]
  },
  {
   "cell_type": "code",
   "execution_count": 41,
   "id": "cb511dd2",
   "metadata": {},
   "outputs": [],
   "source": [
    "my_roi = image[0:100,0:100]\n",
    "my_roi1 = image[300:400,300:400]"
   ]
  },
  {
   "cell_type": "code",
   "execution_count": 42,
   "id": "cd2be978",
   "metadata": {},
   "outputs": [
    {
     "name": "stdout",
     "output_type": "stream",
     "text": [
      "(636, 1024, 3)\n",
      "1953792\n",
      "uint8\n"
     ]
    }
   ],
   "source": [
    "#some properties of numpy arrays\n",
    "print(image.shape)\n",
    "print(image.size)#pixels\n",
    "print(image.dtype)"
   ]
  },
  {
   "cell_type": "markdown",
   "id": "c37a426a",
   "metadata": {},
   "source": [
    "#### Displaying camera frames in windows"
   ]
  },
  {
   "cell_type": "code",
   "execution_count": 4,
   "id": "3eb7007d",
   "metadata": {},
   "outputs": [
    {
     "name": "stdout",
     "output_type": "stream",
     "text": [
      "Showing Camera feed. Click window or press ant key to stop\n",
      "function\n",
      "function\n",
      "Loop\n",
      "Loop\n",
      "Loop\n",
      "Loop\n",
      "Loop\n",
      "Loop\n",
      "Loop\n",
      "Loop\n",
      "Loop\n",
      "Loop\n",
      "Loop\n",
      "Loop\n",
      "Loop\n",
      "Loop\n",
      "Loop\n",
      "Loop\n",
      "Loop\n",
      "Loop\n",
      "Loop\n",
      "Loop\n",
      "Loop\n",
      "Loop\n",
      "Loop\n",
      "Loop\n",
      "Loop\n",
      "Loop\n",
      "Loop\n",
      "Loop\n",
      "Loop\n",
      "Loop\n",
      "Loop\n",
      "function\n",
      "Loop\n",
      "Loop\n",
      "function\n"
     ]
    }
   ],
   "source": [
    "clicked = False\n",
    "\n",
    "def onmouse(event,x,y,flags,param):\n",
    "    global clicked #Can access in any environment\n",
    "    if event == cv2.EVENT_LBUTTONUP:\n",
    "        clicked = True\n",
    "    print('function')\n",
    "    \n",
    "camera_capture = cv2.VideoCapture(0)\n",
    "cv2.namedWindow('MyWindow')\n",
    "cv2.setMouseCallback('MyWindow', onmouse)\n",
    "print('Showing Camera feed. Click window or press ant key to stop')\n",
    "success,frame = camera_capture.read()\n",
    "while success  and (cv2.waitKey(1) == -1) and (not clicked):\n",
    "    cv2.imshow('MyWindow', frame)\n",
    "    success,frame = camera_capture.read()\n",
    "    print('Loop')\n",
    "cv2.destroyWindow('MyWindow')\n",
    "camera_capture.release()\n",
    "    "
   ]
  },
  {
   "cell_type": "code",
   "execution_count": 17,
   "id": "86e2cc77",
   "metadata": {},
   "outputs": [],
   "source": []
  },
  {
   "cell_type": "code",
   "execution_count": null,
   "id": "6a562d41",
   "metadata": {},
   "outputs": [],
   "source": []
  }
 ],
 "metadata": {
  "kernelspec": {
   "display_name": "Python 3",
   "language": "python",
   "name": "python3"
  },
  "language_info": {
   "codemirror_mode": {
    "name": "ipython",
    "version": 3
   },
   "file_extension": ".py",
   "mimetype": "text/x-python",
   "name": "python",
   "nbconvert_exporter": "python",
   "pygments_lexer": "ipython3",
   "version": "3.8.8"
  }
 },
 "nbformat": 4,
 "nbformat_minor": 5
}
