{
 "cells": [
  {
   "cell_type": "code",
   "execution_count": 1,
   "id": "b43958d6",
   "metadata": {},
   "outputs": [],
   "source": [
    "import cv2 as cv2\n",
    "import numpy as np"
   ]
  },
  {
   "cell_type": "markdown",
   "id": "74430c38",
   "metadata": {},
   "source": [
    "## Live Sketch Using ROI"
   ]
  },
  {
   "cell_type": "code",
   "execution_count": 7,
   "id": "1c6dee8f",
   "metadata": {},
   "outputs": [],
   "source": [
    "cap = cv2.VideoCapture(0)\n",
    "while True:\n",
    "    ret,image = cap.read()\n",
    "    roi = cv2.selectROI(\"original\", image, False,False)\n",
    "    cv2.destroyAllWindows()\n",
    "    break\n",
    "    \n",
    "while True:\n",
    "    ret, frame = cap.read()\n",
    "    image = frame[int(roi[1]):int(roi[1]+roi[3]),int(roi[0]):int(roi[0]+roi[2])]\n",
    "    \n",
    "    image = cv2.cvtColor(image, cv2.COLOR_BGR2GRAY)\n",
    "    image = cv2.GaussianBlur(image, (7,7),0)\n",
    "    image = cv2.Canny(image, 14, 62)\n",
    "    ret, image = cv2.threshold(image, 50, 255, cv2.THRESH_BINARY_INV)\n",
    "    image = cv2.cvtColor(image, cv2.COLOR_GRAY2BGR)\n",
    "    \n",
    "    frame[int(roi[1]):int(roi[1]+roi[3]),int(roi[0]):int(roi[0]+roi[2])] = image\n",
    "    \n",
    "    cv2.imshow('Sketch', frame)\n",
    "    if cv2.waitKey(1) == ord('q'):\n",
    "        break\n",
    "cap.release()\n",
    "cv2.destroyAllWindows()\n",
    "    "
   ]
  },
  {
   "cell_type": "markdown",
   "id": "eca794b4",
   "metadata": {},
   "source": [
    "## Live Sketch on Cam Window"
   ]
  },
  {
   "cell_type": "code",
   "execution_count": 9,
   "id": "607538ff",
   "metadata": {},
   "outputs": [],
   "source": [
    "import cv2 as cv2\n",
    "import numpy as np"
   ]
  },
  {
   "cell_type": "code",
   "execution_count": 10,
   "id": "f43add3e",
   "metadata": {},
   "outputs": [],
   "source": [
    "def nothing(x):\n",
    "    pass\n",
    "\n",
    "cap = cv2.VideoCapture(0)\n",
    "cv2.namedWindow('sketch')\n",
    "\n",
    "cv2.createTrackbar('LTC', 'sketch',0,255,nothing)\n",
    "cv2.createTrackbar('UTC', 'sketch',0,255,nothing)\n",
    "\n",
    "while True:\n",
    "    ret, frame = cap.read()\n",
    "    image = cv2.cvtColor(frame, cv2.COLOR_BGR2GRAY)\n",
    "    image = cv2.GaussianBlur(image,(7,7),0)\n",
    "    \n",
    "    ltc = cv2.getTrackbarPos('LTC', 'sketch')\n",
    "    utc = cv2.getTrackbarPos('UTC', 'sketch')\n",
    "    \n",
    "    image = cv2.Canny(image, ltc, utc)\n",
    "    ret, image = cv2.threshold(image, 50, 255, cv2.THRESH_BINARY_INV)\n",
    "    \n",
    "    cv2.imshow('Original', frame)\n",
    "    cv2.imshow('sketch', image)\n",
    "    if cv2.waitKey(1) == ord('q'):\n",
    "        break\n",
    "\n",
    "cap.release()\n",
    "cv2.destroyAllWindows()"
   ]
  },
  {
   "cell_type": "code",
   "execution_count": null,
   "id": "8f613e8f",
   "metadata": {},
   "outputs": [],
   "source": []
  }
 ],
 "metadata": {
  "kernelspec": {
   "display_name": "Python 3",
   "language": "python",
   "name": "python3"
  },
  "language_info": {
   "codemirror_mode": {
    "name": "ipython",
    "version": 3
   },
   "file_extension": ".py",
   "mimetype": "text/x-python",
   "name": "python",
   "nbconvert_exporter": "python",
   "pygments_lexer": "ipython3",
   "version": "3.8.8"
  }
 },
 "nbformat": 4,
 "nbformat_minor": 5
}
